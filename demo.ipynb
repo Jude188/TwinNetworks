{
 "cells": [
  {
   "cell_type": "code",
   "execution_count": 1,
   "metadata": {
    "Collapsed": "false"
   },
   "outputs": [],
   "source": [
    "%load_ext autoreload\n",
    "%autoreload 2"
   ]
  },
  {
   "cell_type": "code",
   "execution_count": 2,
   "metadata": {
    "Collapsed": "false"
   },
   "outputs": [],
   "source": [
    "import numpy as np\n",
    "from itertools import product\n",
    "\n",
    "import matplotlib.pyplot as plt\n",
    "import seaborn as sns"
   ]
  },
  {
   "cell_type": "markdown",
   "metadata": {
    "Collapsed": "false"
   },
   "source": [
    "# An Introduction to the Twin Networks package\n",
    "This package makes it easy to build Structural Causal Models and run counterfactual queries on them. Specifically, it is a library that allows you to:\n",
    "\n",
    "1. Create SCMs (from random or a prespecified model), parameterize them, and sample from them.\n",
    "2. Represent an SCM as a Twin Network.\n",
    "3. Run exact inference for counterfactual queries on the standard or Twin network.\n",
    "4. Run approximate inference for counterfactual queries on the standard or Twin network.\n",
    "\n",
    "Exact inference uses the `pgmpy` package (using variable elimination).\n",
    "Approximate inference uses `Pyro`.\n",
    "\n",
    "We also encourage you to look at [MultiVerse](https://github.com/babylonhealth/multiverse), a prototype Probabilistic Programming Engine meant for counterfactual inference."
   ]
  },
  {
   "cell_type": "markdown",
   "metadata": {
    "Collapsed": "false"
   },
   "source": [
    "## 1. Generating and Sampling from an SCM"
   ]
  },
  {
   "cell_type": "code",
   "execution_count": 3,
   "metadata": {
    "Collapsed": "false"
   },
   "outputs": [],
   "source": [
    "## add relative path\n",
    "import sys\n",
    "sys.path.append('../src/')\n",
    "\n",
    "## this is the main package you'll need.\n",
    "from scm import CausalModel"
   ]
  },
  {
   "cell_type": "markdown",
   "metadata": {
    "Collapsed": "false"
   },
   "source": [
    "### 1.1 Generating an SCM"
   ]
  },
  {
   "cell_type": "markdown",
   "metadata": {
    "Collapsed": "false"
   },
   "source": [
    "Generating an SCM from random is straightforward. You specify the size (number of endogenous nodes), type of variables (currently binary or continuous), generation method (density, backward, random, or from a DAG), and an SCM with exogenous nodes and functional parameterizations will be generated for you:"
   ]
  },
  {
   "cell_type": "code",
   "execution_count": 163,
   "metadata": {
    "Collapsed": "false"
   },
   "outputs": [
    {
     "name": "stdout",
     "output_type": "stream",
     "text": [
      "['N0', 'N1', 'N2', 'N3', 'UN0', 'UN1', 'UN2', 'UN3']\n"
     ]
    }
   ],
   "source": [
    "scm = CausalModel(continuous=True)       # Exogeneous variables are N(0, 1) and all functions are random 3-layer neural nets\n",
    "scm.create(method='density',             # The graph is generated via forward density. In this case, prob of 0.5 implies 50% density.\n",
    "           n_nodes=4,\n",
    "           prob=0.75)                     # this parameter name is specific to the 'density' method (see function docstring)\n",
    "print(scm.G.nodes)                       # The graph is stored in the `G` attribute and is a networkx.classes.digraph.DiGraph instance."
   ]
  },
  {
   "cell_type": "markdown",
   "metadata": {
    "Collapsed": "false"
   },
   "source": [
    "Here, 4 endogenous nodes were created `['N0', 'N1', 'N2', 'N3']`, and each of them were given an independent noise term `UNi`. You can plot the graph inline easily:"
   ]
  },
  {
   "cell_type": "code",
   "execution_count": 164,
   "metadata": {
    "Collapsed": "false"
   },
   "outputs": [
    {
     "data": {
      "image/png": "[encoded data removed]",
      "text/plain": [
       "<Figure size 432x288 with 1 Axes>"
      ]
     },
     "metadata": {},
     "output_type": "display_data"
    }
   ],
   "source": [
    "scm.draw()"
   ]
  },
  {
   "cell_type": "markdown",
   "metadata": {
    "Collapsed": "false"
   },
   "source": [
    "If you have a `networkx.classes.digraph.DiGraph` graph of _only endogenous variables_ (such as a Bayesian Network) you'd like to use, you can use the `scm.create_from_DAG(...)` method instead. This will convert it into a parameterized SCM with exogenous variables."
   ]
  },
  {
   "cell_type": "markdown",
   "metadata": {
    "Collapsed": "false"
   },
   "source": [
    "### 1.2 Sampling from the SCM\n",
    "Samping is really easy with the `.sample()` method. You can modify what node values it return and in what format:"
   ]
  },
  {
   "cell_type": "code",
   "execution_count": 165,
   "metadata": {
    "Collapsed": "false"
   },
   "outputs": [
    {
     "data": {
      "text/html": [
       "<div>\n",
       "<style scoped>\n",
       "    .dataframe tbody tr th:only-of-type {\n",
       "        vertical-align: middle;\n",
       "    }\n",
       "\n",
       "    .dataframe tbody tr th {\n",
       "        vertical-align: top;\n",
       "    }\n",
       "\n",
       "    .dataframe thead th {\n",
       "        text-align: right;\n",
       "    }\n",
       "</style>\n",
       "<table border=\"1\" class=\"dataframe\">\n",
       "  <thead>\n",
       "    <tr style=\"text-align: right;\">\n",
       "      <th></th>\n",
       "      <th>UN0</th>\n",
       "      <th>UN1</th>\n",
       "      <th>UN2</th>\n",
       "      <th>UN3</th>\n",
       "      <th>N0</th>\n",
       "      <th>N1</th>\n",
       "      <th>N3</th>\n",
       "      <th>N2</th>\n",
       "    </tr>\n",
       "  </thead>\n",
       "  <tbody>\n",
       "    <tr>\n",
       "      <th>0</th>\n",
       "      <td>0.613455</td>\n",
       "      <td>-0.180783</td>\n",
       "      <td>0.233198</td>\n",
       "      <td>0.195438</td>\n",
       "      <td>0.613455</td>\n",
       "      <td>-1.341515</td>\n",
       "      <td>-8.704080</td>\n",
       "      <td>-0.431450</td>\n",
       "    </tr>\n",
       "    <tr>\n",
       "      <th>1</th>\n",
       "      <td>0.164977</td>\n",
       "      <td>-0.215764</td>\n",
       "      <td>0.273962</td>\n",
       "      <td>-0.249279</td>\n",
       "      <td>0.164977</td>\n",
       "      <td>-1.332023</td>\n",
       "      <td>-7.232595</td>\n",
       "      <td>-0.384573</td>\n",
       "    </tr>\n",
       "    <tr>\n",
       "      <th>2</th>\n",
       "      <td>0.146662</td>\n",
       "      <td>-0.249907</td>\n",
       "      <td>0.373133</td>\n",
       "      <td>0.523522</td>\n",
       "      <td>0.146662</td>\n",
       "      <td>-1.375192</td>\n",
       "      <td>-6.383549</td>\n",
       "      <td>-0.313053</td>\n",
       "    </tr>\n",
       "    <tr>\n",
       "      <th>3</th>\n",
       "      <td>0.614165</td>\n",
       "      <td>-0.172109</td>\n",
       "      <td>0.076678</td>\n",
       "      <td>0.182732</td>\n",
       "      <td>0.614165</td>\n",
       "      <td>-1.333363</td>\n",
       "      <td>-8.708834</td>\n",
       "      <td>-0.582721</td>\n",
       "    </tr>\n",
       "    <tr>\n",
       "      <th>4</th>\n",
       "      <td>0.571748</td>\n",
       "      <td>-0.149671</td>\n",
       "      <td>0.376813</td>\n",
       "      <td>0.943123</td>\n",
       "      <td>0.571748</td>\n",
       "      <td>-1.281607</td>\n",
       "      <td>-7.772766</td>\n",
       "      <td>-0.248849</td>\n",
       "    </tr>\n",
       "  </tbody>\n",
       "</table>\n",
       "</div>"
      ],
      "text/plain": [
       "        UN0       UN1       UN2       UN3        N0        N1        N3  \\\n",
       "0  0.613455 -0.180783  0.233198  0.195438  0.613455 -1.341515 -8.704080   \n",
       "1  0.164977 -0.215764  0.273962 -0.249279  0.164977 -1.332023 -7.232595   \n",
       "2  0.146662 -0.249907  0.373133  0.523522  0.146662 -1.375192 -6.383549   \n",
       "3  0.614165 -0.172109  0.076678  0.182732  0.614165 -1.333363 -8.708834   \n",
       "4  0.571748 -0.149671  0.376813  0.943123  0.571748 -1.281607 -7.772766   \n",
       "\n",
       "         N2  \n",
       "0 -0.431450  \n",
       "1 -0.384573  \n",
       "2 -0.313053  \n",
       "3 -0.582721  \n",
       "4 -0.248849  "
      ]
     },
     "execution_count": 165,
     "metadata": {},
     "output_type": "execute_result"
    }
   ],
   "source": [
    "s = scm.sample(n_samples=1000, return_pandas=True)\n",
    "s.head()"
   ]
  },
  {
   "cell_type": "code",
   "execution_count": 166,
   "metadata": {
    "Collapsed": "false"
   },
   "outputs": [
    {
     "data": {
      "text/plain": [
       "<seaborn.axisgrid.JointGrid at 0x13acb0b38>"
      ]
     },
     "execution_count": 166,
     "metadata": {},
     "output_type": "execute_result"
    },
    {
     "data": {
      "image/png": "[encoded data removed]",
      "text/plain": [
       "<Figure size 432x432 with 3 Axes>"
      ]
     },
     "metadata": {
      "needs_background": "light"
     },
     "output_type": "display_data"
    }
   ],
   "source": [
    "sns.jointplot(s['N2'], s['N3'])"
   ]
  },
  {
   "cell_type": "markdown",
   "metadata": {
    "Collapsed": "false"
   },
   "source": [
    "### 1.3 Modifying functions"
   ]
  },
  {
   "cell_type": "markdown",
   "metadata": {
    "Collapsed": "false"
   },
   "source": [
    "Note than in our random parameterization of the SCM, each endogenous node is given a random neural network that is a function of all its endogenous parent nodes. You can change each endogenous node's generating function assignments if you like.\n",
    "\n",
    "A function is valid if it takes in an `[n x m]` Torch tensor (where `m` is the number of endogenous parents) and outputs an `[n x 1]` torch tensor of the same type."
   ]
  },
  {
   "cell_type": "code",
   "execution_count": 167,
   "metadata": {
    "Collapsed": "false"
   },
   "outputs": [],
   "source": [
    "scm.G.nodes['N1']['fn'] = lambda X: torch.sum(X, dim=1).reshape(-1, 1)"
   ]
  },
  {
   "cell_type": "code",
   "execution_count": 168,
   "metadata": {
    "Collapsed": "false"
   },
   "outputs": [
    {
     "data": {
      "text/html": [
       "<div>\n",
       "<style scoped>\n",
       "    .dataframe tbody tr th:only-of-type {\n",
       "        vertical-align: middle;\n",
       "    }\n",
       "\n",
       "    .dataframe tbody tr th {\n",
       "        vertical-align: top;\n",
       "    }\n",
       "\n",
       "    .dataframe thead th {\n",
       "        text-align: right;\n",
       "    }\n",
       "</style>\n",
       "<table border=\"1\" class=\"dataframe\">\n",
       "  <thead>\n",
       "    <tr style=\"text-align: right;\">\n",
       "      <th></th>\n",
       "      <th>UN0</th>\n",
       "      <th>UN1</th>\n",
       "      <th>UN2</th>\n",
       "      <th>UN3</th>\n",
       "      <th>N0</th>\n",
       "      <th>N1</th>\n",
       "      <th>N3</th>\n",
       "      <th>N2</th>\n",
       "    </tr>\n",
       "  </thead>\n",
       "  <tbody>\n",
       "    <tr>\n",
       "      <th>0</th>\n",
       "      <td>0.564994</td>\n",
       "      <td>-0.273928</td>\n",
       "      <td>0.074246</td>\n",
       "      <td>-0.019968</td>\n",
       "      <td>0.564994</td>\n",
       "      <td>0.291066</td>\n",
       "      <td>-3.733667</td>\n",
       "      <td>3.340453</td>\n",
       "    </tr>\n",
       "    <tr>\n",
       "      <th>1</th>\n",
       "      <td>-0.128040</td>\n",
       "      <td>-0.182515</td>\n",
       "      <td>0.090146</td>\n",
       "      <td>1.092302</td>\n",
       "      <td>-0.128040</td>\n",
       "      <td>-0.310555</td>\n",
       "      <td>-0.148967</td>\n",
       "      <td>1.199769</td>\n",
       "    </tr>\n",
       "    <tr>\n",
       "      <th>2</th>\n",
       "      <td>0.293881</td>\n",
       "      <td>-0.153457</td>\n",
       "      <td>-0.024896</td>\n",
       "      <td>-0.317926</td>\n",
       "      <td>0.293881</td>\n",
       "      <td>0.140424</td>\n",
       "      <td>-3.492264</td>\n",
       "      <td>2.972615</td>\n",
       "    </tr>\n",
       "  </tbody>\n",
       "</table>\n",
       "</div>"
      ],
      "text/plain": [
       "        UN0       UN1       UN2       UN3        N0        N1        N3  \\\n",
       "0  0.564994 -0.273928  0.074246 -0.019968  0.564994  0.291066 -3.733667   \n",
       "1 -0.128040 -0.182515  0.090146  1.092302 -0.128040 -0.310555 -0.148967   \n",
       "2  0.293881 -0.153457 -0.024896 -0.317926  0.293881  0.140424 -3.492264   \n",
       "\n",
       "         N2  \n",
       "0  3.340453  \n",
       "1  1.199769  \n",
       "2  2.972615  "
      ]
     },
     "execution_count": 168,
     "metadata": {},
     "output_type": "execute_result"
    }
   ],
   "source": [
    "scm.sample(n_samples=3, return_pandas=True)"
   ]
  },
  {
   "cell_type": "markdown",
   "metadata": {
    "Collapsed": "false"
   },
   "source": [
    "Note that you only specify a function taking in **endogenous** parents. This is because it handles exogenous noise separately. Currently, the only supported exogenous noise function is additive noise."
   ]
  },
  {
   "cell_type": "markdown",
   "metadata": {
    "Collapsed": "false"
   },
   "source": [
    "### 1.4 Creating a Twin Network\n",
    "You can convert this SCM into a twin network really easily:"
   ]
  },
  {
   "cell_type": "code",
   "execution_count": 169,
   "metadata": {
    "Collapsed": "false"
   },
   "outputs": [
    {
     "name": "stdout",
     "output_type": "stream",
     "text": [
      "['N0', 'N1', 'N2', 'N3', 'UN0', 'UN1', 'UN2', 'UN3', 'N0tn', 'N1tn', 'N2tn', 'N3tn']\n"
     ]
    }
   ],
   "source": [
    "scm.create_twin_network()\n",
    "print(scm.twin_G.nodes)"
   ]
  },
  {
   "cell_type": "markdown",
   "metadata": {
    "Collapsed": "false"
   },
   "source": [
    "Twin nodes are labeled with \"tn\" in the name. Functions have been copied to this new network."
   ]
  },
  {
   "cell_type": "markdown",
   "metadata": {
    "Collapsed": "false"
   },
   "source": [
    "## 2. Running Exact Inference"
   ]
  },
  {
   "cell_type": "code",
   "execution_count": 170,
   "metadata": {
    "Collapsed": "false"
   },
   "outputs": [],
   "source": [
    "from exact import ExactCounterfactual\n",
    "from experiments import Experiment"
   ]
  },
  {
   "cell_type": "markdown",
   "metadata": {
    "Collapsed": "false"
   },
   "source": [
    "First we need to generate an experiment to run. We use the `Experiment` class to generate different types of experiments, each of which consist of a counterfactual query composed of $\\{G, Y^*, E, D\\}$, where $G$ is the `CausalModel` on which the experiment happens, $Y^*$ is the _counterfactual node of interest_, $E$ is the evidence to observe for abduction, and $D$ is the _intervention_. Let's set up an experiment:"
   ]
  },
  {
   "cell_type": "code",
   "execution_count": 171,
   "metadata": {
    "Collapsed": "false"
   },
   "outputs": [
    {
     "name": "stdout",
     "output_type": "stream",
     "text": [
      "<class 'scm.CausalModel'>\n",
      "Node of interest:\tN2\n",
      "Evidence:\t\t{'N7': 1, 'N0': 0, 'N9': 1, 'N4': 0}\n",
      "Intervention:\t\t{'N0': 1}\n"
     ]
    }
   ],
   "source": [
    "e = Experiment()\n",
    "scm, node_of_interest, evidence, d_intervention = e.size_experiment(10)  # at this moment, this only generates binary networks.\n",
    "print(type(scm))\n",
    "print(\"Node of interest:\\t{}\".format(node_of_interest))\n",
    "print(\"Evidence:\\t\\t{}\".format(evidence))\n",
    "print(\"Intervention:\\t\\t{}\".format(d_intervention))"
   ]
  },
  {
   "cell_type": "markdown",
   "metadata": {
    "Collapsed": "false"
   },
   "source": [
    "We can then pass these experimental parameters to a `Counterfactual` instance to run exact inference. Using the `.construct(scm)` creates a `pgmpy` Bayesian network with CPTs that are based on samples, on which you can run Variable Elimination."
   ]
  },
  {
   "cell_type": "code",
   "execution_count": 172,
   "metadata": {
    "Collapsed": "false"
   },
   "outputs": [],
   "source": [
    "cf = ExactCounterfactual(merge=True)  # merge == True turns on node merging when you run twin network inference\n",
    "cf.construct(scm, n_samples=30000)  # parameterize the CPTs from 30000 samples from the SCM."
   ]
  },
  {
   "cell_type": "markdown",
   "metadata": {
    "Collapsed": "false"
   },
   "source": [
    "We can run different types of queries. We could run standard counterfactual inference (SCI), performing abduction-intervention-prediction in turn. Or, we could perform twin network inference. Let's try both."
   ]
  },
  {
   "cell_type": "markdown",
   "metadata": {
    "Collapsed": "false"
   },
   "source": [
    "### 2.1 Standard Counterfactual Inference"
   ]
  },
  {
   "cell_type": "markdown",
   "metadata": {
    "Collapsed": "false"
   },
   "source": [
    "Here I'll run *abduction-intervention-prediction* explicitly, then I'll show you the method that does all three at once. First, abduction, which runs VariableElimination to create $P(U | X)$, then replaces the CPDs for all endogeneous nodes (an approximation that I'll show how to fix in 2.1.2)."
   ]
  },
  {
   "cell_type": "code",
   "execution_count": 173,
   "metadata": {
    "Collapsed": "false"
   },
   "outputs": [
    {
     "name": "stderr",
     "output_type": "stream",
     "text": [
      "Finding Elimination Order: : 100%|██████████| 6/6 [00:00<00:00, 3410.93it/s]\n",
      "Eliminating: N1: 100%|██████████| 6/6 [00:00<00:00, 45.95it/s]\n",
      "WARNING:root:Replacing existing CPD for N0\n",
      "WARNING:root:Replacing existing CPD for N1\n",
      "WARNING:root:Replacing existing CPD for N2\n",
      "WARNING:root:Replacing existing CPD for N3\n",
      "WARNING:root:Replacing existing CPD for N4\n",
      "WARNING:root:Replacing existing CPD for N5\n",
      "WARNING:root:Replacing existing CPD for N6\n",
      "WARNING:root:Replacing existing CPD for N7\n",
      "WARNING:root:Replacing existing CPD for N8\n",
      "WARNING:root:Replacing existing CPD for N9\n",
      "WARNING:root:Replacing existing CPD for UN0\n",
      "WARNING:root:Replacing existing CPD for UN1\n",
      "WARNING:root:Replacing existing CPD for UN2\n",
      "WARNING:root:Replacing existing CPD for UN3\n",
      "WARNING:root:Replacing existing CPD for UN4\n",
      "WARNING:root:Replacing existing CPD for UN5\n",
      "WARNING:root:Replacing existing CPD for UN6\n",
      "WARNING:root:Replacing existing CPD for UN7\n",
      "WARNING:root:Replacing existing CPD for UN8\n",
      "WARNING:root:Replacing existing CPD for UN9\n"
     ]
    }
   ],
   "source": [
    "cf.abduction(evidence)"
   ]
  },
  {
   "cell_type": "markdown",
   "metadata": {
    "Collapsed": "false"
   },
   "source": [
    "`.abduction(evidence)` creates a new attribute, `counterfactual_model`, that contains a new Bayesian Network with CPTs replaced with a new marginal CPT. This is an approximation that we use which approximates sampling from the joint posterior. We'll show how to do \"perfect\" exact inference in the next section. But first, we intervene:"
   ]
  },
  {
   "cell_type": "code",
   "execution_count": 174,
   "metadata": {
    "Collapsed": "false"
   },
   "outputs": [
    {
     "name": "stderr",
     "output_type": "stream",
     "text": [
      "WARNING:root:Replacing existing CPD for N0\n"
     ]
    }
   ],
   "source": [
    "cf.intervene(d_intervention, counterfactual=True)"
   ]
  },
  {
   "cell_type": "markdown",
   "metadata": {
    "Collapsed": "false"
   },
   "source": [
    "and last, we predict:"
   ]
  },
  {
   "cell_type": "code",
   "execution_count": 175,
   "metadata": {
    "Collapsed": "false"
   },
   "outputs": [
    {
     "name": "stderr",
     "output_type": "stream",
     "text": [
      "Generating for node: N6: 100%|██████████| 19/19 [00:02<00:00,  7.85it/s]\n"
     ]
    },
    {
     "data": {
      "text/plain": [
       "0.4415"
      ]
     },
     "execution_count": 175,
     "metadata": {},
     "output_type": "execute_result"
    }
   ],
   "source": [
    "cf.sample(10000, counterfactual=True)[node_of_interest].mean()"
   ]
  },
  {
   "cell_type": "markdown",
   "metadata": {
    "Collapsed": "false"
   },
   "source": [
    "where previously, the interventional estimate for N4 (given the evidence) was:"
   ]
  },
  {
   "cell_type": "code",
   "execution_count": 176,
   "metadata": {
    "Collapsed": "false"
   },
   "outputs": [
    {
     "name": "stderr",
     "output_type": "stream",
     "text": [
      "WARNING:root:Replacing existing CPD for N0\n",
      "Finding Elimination Order: : 100%|██████████| 14/14 [00:00<00:00, 6594.82it/s]\n",
      "Eliminating: N1: 100%|██████████| 14/14 [00:00<00:00, 607.48it/s]\n"
     ]
    }
   ],
   "source": [
    "scm.reset_graph()\n",
    "cf.construct(scm)\n",
    "\n",
    "cf.intervene(d_intervention)\n",
    "prediction = cf.query(node_of_interest, evidence)"
   ]
  },
  {
   "cell_type": "code",
   "execution_count": 177,
   "metadata": {
    "Collapsed": "false"
   },
   "outputs": [
    {
     "data": {
      "text/plain": [
       "0.5548767840934556"
      ]
     },
     "execution_count": 177,
     "metadata": {},
     "output_type": "execute_result"
    }
   ],
   "source": [
    "prediction[0].values[1]  # get the probability that the value is 1"
   ]
  },
  {
   "cell_type": "markdown",
   "metadata": {
    "Collapsed": "false"
   },
   "source": [
    "That is, the counterfactual estimate is about 20% lower than the interventional estimate. The counterfactual information makes a big difference."
   ]
  },
  {
   "cell_type": "markdown",
   "metadata": {
    "Collapsed": "false"
   },
   "source": [
    "## 3. Running Approximate Inference"
   ]
  },
  {
   "cell_type": "markdown",
   "metadata": {
    "Collapsed": "false"
   },
   "source": [
    "In most cases, you probably want to run approximate inference. This occurs for the most part when the graph is large enough to make exact inference intractable, or the variables are continuous rendering approximate inference necessary. For this purpose, we developed the `approximate.py` module, which wraps around a `CausalModel` object."
   ]
  },
  {
   "cell_type": "code",
   "execution_count": 184,
   "metadata": {
    "Collapsed": "false"
   },
   "outputs": [],
   "source": [
    "from approximate import *"
   ]
  },
  {
   "cell_type": "markdown",
   "metadata": {
    "Collapsed": "false"
   },
   "source": [
    "First, create a causal model:"
   ]
  },
  {
   "cell_type": "code",
   "execution_count": 185,
   "metadata": {
    "Collapsed": "false"
   },
   "outputs": [],
   "source": [
    "scm = CausalModel(continuous=True)\n",
    "n_nodes = 10\n",
    "scm.create(\"density\", n_nodes, prob=0.5)"
   ]
  },
  {
   "cell_type": "markdown",
   "metadata": {
    "Collapsed": "false"
   },
   "source": [
    "Then we can use the approximate wrapper:"
   ]
  },
  {
   "cell_type": "code",
   "execution_count": 186,
   "metadata": {
    "Collapsed": "false"
   },
   "outputs": [],
   "source": [
    "app = ApproximateCounterfactual(prior_mean=0., prior_variance=4.)\n",
    "app.construct(scm)"
   ]
  },
  {
   "cell_type": "markdown",
   "metadata": {
    "Collapsed": "false"
   },
   "source": [
    "The `ApproximateCounterfactual` instance has converted the `CausalModel` into a `Pyro` model and corresponding guide. The model has two components:\n",
    "\n",
    "1. Exogenous Nodes, which are `pyro.distributions.Normal` objects, i.e. they have a Normal prior.\n",
    "2. Endogenous Nodes, which are `pyro.distributions.Delta` objects, i.e. Delta-distributed around the outcome of the node's generating function. Endogenous nodes are thus deterministically determined by their endogenous and exogenous parents.\n",
    "\n",
    "You can sample from the model:"
   ]
  },
  {
   "cell_type": "code",
   "execution_count": 187,
   "metadata": {
    "Collapsed": "false"
   },
   "outputs": [
    {
     "data": {
      "text/plain": [
       "{'UN9': tensor([-1.0188]),\n",
       " 'UN8': tensor([1.2218]),\n",
       " 'UN7': tensor([-2.5615]),\n",
       " 'UN6': tensor([3.5748]),\n",
       " 'UN5': tensor([-4.0608]),\n",
       " 'UN4': tensor([5.3585]),\n",
       " 'UN3': tensor([4.5340]),\n",
       " 'UN2': tensor([9.5910]),\n",
       " 'UN1': tensor([-0.6833]),\n",
       " 'N1': tensor([-0.6833]),\n",
       " 'UN0': tensor([-2.2523]),\n",
       " 'N0': tensor([-2.2523]),\n",
       " 'N2': tensor([13.2645]),\n",
       " 'N3': tensor([9.9231]),\n",
       " 'N4': tensor([4.6218]),\n",
       " 'N6': tensor([2.5538]),\n",
       " 'N7': tensor([-1.2771]),\n",
       " 'N5': tensor([-0.7826]),\n",
       " 'N8': tensor([5.2562]),\n",
       " 'N9': tensor([-3.9462])}"
      ]
     },
     "execution_count": 187,
     "metadata": {},
     "output_type": "execute_result"
    }
   ],
   "source": [
    "app.model()"
   ]
  },
  {
   "cell_type": "markdown",
   "metadata": {
    "Collapsed": "false"
   },
   "source": [
    "We'll generate an experiment with continuous valuables first (this is just custom boilerplate):"
   ]
  },
  {
   "cell_type": "code",
   "execution_count": 188,
   "metadata": {
    "Collapsed": "false"
   },
   "outputs": [
    {
     "name": "stdout",
     "output_type": "stream",
     "text": [
      "Number of iterations:  1\n"
     ]
    }
   ],
   "source": [
    "def sample_counterfactual(scm, intv, noi, nodes_to_observe=['N0', 'N2']):\n",
    "    # create approximate model\n",
    "    app = ApproximateCounterfactual()\n",
    "    app.construct(scm)\n",
    "    sample = scm.sample(return_pandas=True).to_dict(\"list\")\n",
    "    sample = {k: torch.tensor(sample[k]) for k in sample}\n",
    "\n",
    "    # sample evidence, latent state, and intervention\n",
    "    evidence = {k: sample[k] for k in sample if k in nodes_to_observe}\n",
    "    latent = {k: sample[k] for k in sample if k[0] == \"U\"}\n",
    "    \n",
    "    # create intervened (counterfactual) model\n",
    "    app._intv_nodes = [k for k in intv]\n",
    "    intervened_model = pyro.do(app.model, {**latent, **intv})  ## this is where it fails\n",
    "    \n",
    "    ## either change Model() so it takes in \n",
    "    \n",
    "    # get true counterfactual value\n",
    "    cf_value = intervened_model()[noi]\n",
    "    \n",
    "    return cf_value, sample[noi], evidence, latent\n",
    "\n",
    "def generate_counterfactual(scm, intv_node, noi, nodes_to_observe=[\"N0\", \"N2\"], max_iters=500):\n",
    "    sample = scm.sample(1000, return_pandas=True)\n",
    "    noi_sample = sample[noi]\n",
    "    \n",
    "    intv_sample = sample[intv_node]\n",
    "    intv = np.random.choice([np.percentile(intv_sample, 80), np.percentile(intv_sample, 20)])\n",
    "    intv = {intv_node: torch.tensor([intv])}\n",
    "    \n",
    "    iqr = np.abs(np.percentile(noi_sample, 75) - np.percentile(noi_sample, 25))\n",
    "    cf_value, pre, evidence, latent = sample_counterfactual(scm, intv, noi, nodes_to_observe=nodes_to_observe)\n",
    "    cf_value = pre\n",
    "\n",
    "    ## generate a counterfactual where the intervention influence is large\n",
    "    num_iterations = 0\n",
    "    while torch.abs(cf_value - pre) < 1.5 * iqr and num_iterations < max_iters:\n",
    "        num_iterations += 1\n",
    "        cf_value, pre, evidence, latent = sample_counterfactual(scm, intv, noi, nodes_to_observe=nodes_to_observe)\n",
    "    print(\"Number of iterations: \", num_iterations)\n",
    "    if num_iterations >= max_iters:\n",
    "        raise ValueError(\"reached maxed iterations.\")\n",
    "    return cf_value, pre, evidence, latent, intv\n",
    "\n",
    "\n",
    "noi = \"N{}\".format(n_nodes-1)                 # select the node last in the topological order as the node of interest\n",
    "obs = np.random.choice(scm._get_endog_nodes(), int(n_nodes / 2))  # randomly select half the nodes to observe\n",
    "cf_value, pre_value, evidence, latent, intv = generate_counterfactual(scm, intv_node=scm.middle_node(noi), noi=noi,\n",
    "                                                                     nodes_to_observe=obs, max_iters=500)"
   ]
  },
  {
   "cell_type": "markdown",
   "metadata": {
    "Collapsed": "false"
   },
   "source": [
    "And with this approximate model we can run an approximate query. First using Abduction-Action-Prediction:"
   ]
  },
  {
   "cell_type": "code",
   "execution_count": 189,
   "metadata": {
    "Collapsed": "false"
   },
   "outputs": [],
   "source": [
    "outcome = app.counterfactual_query(noi, evidence, intv, 1000, 1000, distribution=True)"
   ]
  },
  {
   "cell_type": "markdown",
   "metadata": {
    "Collapsed": "false"
   },
   "source": [
    "or the twin network:"
   ]
  },
  {
   "cell_type": "code",
   "execution_count": 190,
   "metadata": {
    "Collapsed": "false"
   },
   "outputs": [
    {
     "name": "stderr",
     "output_type": "stream",
     "text": [
      "/Users/Logan/anaconda2/envs/py3/lib/python3.6/site-packages/torch/distributions/distribution.py:134: UserWarning: sample_n will be deprecated. Use .sample((n,)) instead\n",
      "  warnings.warn('sample_n will be deprecated. Use .sample((n,)) instead', UserWarning)\n"
     ]
    }
   ],
   "source": [
    "twin = app.twin_query(noi, evidence, intv, 1000, distribution=True)"
   ]
  }
 ],
 "metadata": {
  "kernelspec": {
   "display_name": "Python 3",
   "language": "python",
   "name": "python3"
  },
  "language_info": {
   "codemirror_mode": {
    "name": "ipython",
    "version": 3
   },
   "file_extension": ".py",
   "mimetype": "text/x-python",
   "name": "python",
   "nbconvert_exporter": "python",
   "pygments_lexer": "ipython3",
   "version": "3.6.7"
  }
 },
 "nbformat": 4,
 "nbformat_minor": 4
}
